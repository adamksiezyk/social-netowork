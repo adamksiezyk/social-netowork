{
 "cells": [
  {
   "cell_type": "code",
   "execution_count": 3,
   "id": "fb094c88-3664-4c05-be6e-09f57bd3aca6",
   "metadata": {},
   "outputs": [
    {
     "name": "stdout",
     "output_type": "stream",
     "text": [
      "/opt/miniconda3/envs/jupyter/bin/python3\n"
     ]
    }
   ],
   "source": [
    "!which python3"
   ]
  },
  {
   "cell_type": "code",
   "execution_count": null,
   "id": "b8f8e816-26ed-4f5c-818f-61b5ab02f1c9",
   "metadata": {},
   "outputs": [],
   "source": [
    "import datetime as dt\n",
    "import dotenv\n",
    "import json\n",
    "import os\n",
    "import re\n",
    "import requests\n",
    "\n",
    "from bs4 import BeautifulSoup\n",
    "from dataclasses import dataclass, field\n",
    "from functools import partial\n",
    "from itertools import accumulate, islice, repeat, takewhile"
   ]
  },
  {
   "cell_type": "code",
   "execution_count": null,
   "id": "9e6db509-c925-48b0-ace4-59e431d7c915",
   "metadata": {},
   "outputs": [],
   "source": [
    "dotenv.load_dotenv()"
   ]
  },
  {
   "cell_type": "code",
   "execution_count": null,
   "id": "6396773c-993e-47a1-a747-b3de71cc1992",
   "metadata": {},
   "outputs": [],
   "source": [
    "NEXT_FEED_TEXT = 'Zobacz więcej relacji'\n",
    "POST_URL_TEXT = 'Pełne zdarzenie'\n",
    "\n",
    "proto = 'https'\n",
    "base_uri = 'mbasic.facebook.com'\n",
    "home_url = f'{proto}://{base_uri}'\n",
    "\n",
    "tz = dt.timezone(dt.timedelta(hours=2))"
   ]
  },
  {
   "cell_type": "code",
   "execution_count": null,
   "id": "ab030aef-8d00-4738-82a7-02c3d78cc9be",
   "metadata": {},
   "outputs": [],
   "source": [
    "# iter utils\n",
    "def iterate(f, x):\n",
    "  \"\"\"return (x, f(x), f(f(x)), ...)\"\"\"\n",
    "  return accumulate(repeat(x), lambda fx, _: f(fx))\n",
    "\n",
    "\n",
    "def take_nth(n, x):\n",
    "    \"\"\"return list(x)[n]\"\"\"\n",
    "    return next(islice(x, n, n+1))"
   ]
  },
  {
   "cell_type": "code",
   "execution_count": null,
   "id": "f5733ed6-c85b-4aed-b7f9-a1835dcfb91b",
   "metadata": {},
   "outputs": [],
   "source": [
    "# Scraper\n",
    "\n",
    "def create_url(path):\n",
    "    return f\"{proto}://{base_uri}/{path.strip('/')}\"\n",
    "\n",
    "\n",
    "def _get_login_data():\n",
    "    res = requests.get(home_url)\n",
    "    soup = BeautifulSoup(res.text)\n",
    "    form = soup.find(attrs={'id': 'login_form'})\n",
    "    action_url = form.get('action')\n",
    "    inputs = form.find_all('input', attrs={'type': ['hidden', 'submit']})\n",
    "    data = {el.get('name'): el.get('value') for el in inputs}\n",
    "    cookies = res.cookies\n",
    "    return action_url, data, cookies\n",
    "\n",
    "\n",
    "def create_session():\n",
    "    login_url, login_data, login_cookies = _get_login_data()\n",
    "    login_data['email'] = os.environ['FB_EMAIL']\n",
    "    login_data['pass'] = os.environ['FB_PASSWORD']\n",
    "    s = requests.Session()\n",
    "    res = s.post(create_url(login_url), data=login_data, cookies=login_cookies, allow_redirects=False)\n",
    "    if res.status_code != 302:\n",
    "        raise RuntimeError('Error while logging in.')\n",
    "    return s\n",
    "\n",
    "\n",
    "def fetch_html(s, url):\n",
    "    res = s.get(url)\n",
    "    res.raise_for_status()\n",
    "    return BeautifulSoup(res.text)\n",
    "\n",
    "\n",
    "def get_nth_child(n, soup):\n",
    "    return take_nth(n, soup.children)\n",
    "\n",
    "\n",
    "get_first_child = partial(get_nth_child, 0)"
   ]
  },
  {
   "cell_type": "code",
   "execution_count": null,
   "id": "da1fefa7-31e1-4d56-8978-760b975c9e59",
   "metadata": {},
   "outputs": [],
   "source": [
    "# Timeline\n",
    "\n",
    "def get_posts_as_soups(soup):\n",
    "    return soup.find(attrs={'class': 'feed'}).find().children\n",
    "\n",
    "\n",
    "def get_next_posts_url(soup):\n",
    "    el = soup.find(string=NEXT_FEED_TEXT)\n",
    "    next_posts_url = el.find_parent().find_parent().get('href')\n",
    "    return create_url(next_posts_url)"
   ]
  },
  {
   "cell_type": "code",
   "execution_count": null,
   "id": "f6159603-2359-46dc-9e00-760da2e05a59",
   "metadata": {},
   "outputs": [],
   "source": [
    "from dataclasses import field"
   ]
  },
  {
   "cell_type": "code",
   "execution_count": null,
   "id": "25ec4574-2c8d-494b-a13f-8aa5b6bc4cee",
   "metadata": {},
   "outputs": [],
   "source": [
    "# Post\n",
    "\n",
    "@dataclass\n",
    "class Post:\n",
    "    timestamp: dt.datetime\n",
    "    content: str\n",
    "    likes: int\n",
    "    comments: int\n",
    "    url: str = field(repr=False)\n",
    "\n",
    "\n",
    "def create_post_from_soup(post):\n",
    "    try:\n",
    "        return Post(\n",
    "            timestamp=get_timestamp(post),\n",
    "            content=get_content(post),\n",
    "            likes=get_likes(post),\n",
    "            comments=get_comments(post),\n",
    "            url=get_url(post)\n",
    "        )\n",
    "    except:\n",
    "        return None\n",
    "\n",
    "\n",
    "def get_timestamp(post):\n",
    "    page_insights = list(json.loads(post.get('data-ft'))['page_insights'].values())[0]\n",
    "    post_context = page_insights['post_context']\n",
    "    publish_time = post_context['publish_time']\n",
    "    return dt.datetime.fromtimestamp(publish_time).astimezone(tz)\n",
    "\n",
    "\n",
    "def get_content(post):\n",
    "    paragraph = post.find('p')\n",
    "    return ' '.join(paragraph.stripped_strings)\n",
    "\n",
    "\n",
    "def get_likes(post):\n",
    "    footer = list(post.children)[1]\n",
    "    return int(footer.a.text)\n",
    "\n",
    "\n",
    "def get_comments(post):\n",
    "    footer = list(post.children)[1]\n",
    "    stats = list(footer.children)[1]\n",
    "    comments_section = list(stats.children)[2]\n",
    "    comments_components = comments_section.text.split()\n",
    "    if comments_components[0].isnumeric():\n",
    "        comments = int(comments_components[0])\n",
    "    elif comments_components[-1].isnumeric():\n",
    "        comments = int(comments_components[-1])\n",
    "    else:\n",
    "        comments = 0\n",
    "    return comments\n",
    "\n",
    "\n",
    "def get_url(post):\n",
    "    return post.find(string=POST_URL_TEXT).find_parent().get('href')"
   ]
  },
  {
   "cell_type": "code",
   "execution_count": null,
   "id": "d7619e94-436b-48cb-aa81-a3a81ad4c3dd",
   "metadata": {},
   "outputs": [],
   "source": [
    "s = create_session()"
   ]
  },
  {
   "cell_type": "code",
   "execution_count": null,
   "id": "ed2af3f9-fbc1-4925-a710-2fea666e9503",
   "metadata": {},
   "outputs": [],
   "source": [
    "page_id = 'ekstraklasatrolls'\n",
    "url = create_url(f'{page_id}/?v=timeline')\n",
    "soup = fetch_html(s, url)"
   ]
  },
  {
   "cell_type": "code",
   "execution_count": null,
   "id": "50e2cc25-4618-461a-94af-75cf9e0e59b1",
   "metadata": {},
   "outputs": [],
   "source": [
    "with open('index.html', 'w') as f:\n",
    "    f.write(str(soup))"
   ]
  },
  {
   "cell_type": "code",
   "execution_count": null,
   "id": "141e2363-bf30-421a-8e11-eb84fcb2e898",
   "metadata": {},
   "outputs": [],
   "source": [
    "# Feed stream\n",
    "\n",
    "def fetch_feed(s, url):\n",
    "    soup = fetch_html(s, url)\n",
    "    posts_soups = get_posts_as_soups(soup)\n",
    "    posts = [create_post_from_soup(p) for p in posts_soups]\n",
    "    yield from posts\n",
    "    \n",
    "    next_url = get_next_posts_url(soup)\n",
    "    yield from fetch_feed_stream(s, next_url)\n",
    "\n",
    "\n",
    "def fetch_feed_stream(s, url):\n",
    "    soup = fetch_html(s, url)\n",
    "    contrainer = iterate(get_first_child, soup.find_all('table')[1])\n",
    "    posts_soups = take_nth(5, contrainer).children\n",
    "    posts = [create_post_from_soup(p) for p in posts_soups]\n",
    "    yield from posts\n",
    "    \n",
    "    next_url = get_next_posts_url(soup)\n",
    "    yield from fetch_feed_stream(s, next_url)"
   ]
  },
  {
   "cell_type": "code",
   "execution_count": null,
   "id": "8d60f5a8-fbae-4cd2-9164-a2dfc97f5e75",
   "metadata": {},
   "outputs": [],
   "source": [
    "my_fetch_feed = partial(fetch_feed, s)"
   ]
  },
  {
   "cell_type": "code",
   "execution_count": null,
   "id": "cd83d447-59e8-4c1d-879a-6d967a2796ac",
   "metadata": {},
   "outputs": [],
   "source": [
    "date_stop = dt.date(2023, 7, 20)\n",
    "posts = takewhile(lambda p: not p or p.timestamp.date() > date_stop, my_fetch_feed(url))"
   ]
  },
  {
   "cell_type": "code",
   "execution_count": null,
   "id": "a3f703d0-dc9e-4af9-9b63-16f0d3be0331",
   "metadata": {},
   "outputs": [],
   "source": [
    "next(posts)"
   ]
  }
 ],
 "metadata": {
  "kernelspec": {
   "display_name": "social-network",
   "language": "python",
   "name": "social-network"
  },
  "language_info": {
   "codemirror_mode": {
    "name": "ipython",
    "version": 3
   },
   "file_extension": ".py",
   "mimetype": "text/x-python",
   "name": "python",
   "nbconvert_exporter": "python",
   "pygments_lexer": "ipython3",
   "version": "3.11.4"
  }
 },
 "nbformat": 4,
 "nbformat_minor": 5
}
