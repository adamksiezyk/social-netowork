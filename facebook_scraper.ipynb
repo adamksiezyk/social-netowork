{
 "cells": [
  {
   "cell_type": "code",
   "execution_count": null,
   "id": "b8f8e816-26ed-4f5c-818f-61b5ab02f1c9",
   "metadata": {},
   "outputs": [],
   "source": [
    "import dotenv\n",
    "import os\n",
    "import re\n",
    "import requests\n",
    "from bs4 import BeautifulSoup"
   ]
  },
  {
   "cell_type": "code",
   "execution_count": null,
   "id": "9e6db509-c925-48b0-ace4-59e431d7c915",
   "metadata": {},
   "outputs": [],
   "source": [
    "dotenv.load_dotenv()"
   ]
  },
  {
   "cell_type": "code",
   "execution_count": null,
   "id": "6396773c-993e-47a1-a747-b3de71cc1992",
   "metadata": {},
   "outputs": [],
   "source": [
    "proto = 'https'\n",
    "base_uri = 'mbasic.facebook.com'\n",
    "home_url = f'{proto}://{base_uri}'\n",
    "post_url = f'https://m.facebook.com/groups/vinteoklamp/permalink/1668258000349626/'"
   ]
  },
  {
   "cell_type": "code",
   "execution_count": null,
   "id": "f5733ed6-c85b-4aed-b7f9-a1835dcfb91b",
   "metadata": {},
   "outputs": [],
   "source": [
    "def create_url(path):\n",
    "    return f\"{proto}://{base_uri}/{path.strip('/')}\"\n",
    "\n",
    "\n",
    "def _get_login_data():\n",
    "    res = requests.get(home_url)\n",
    "    soup = BeautifulSoup(res.text)\n",
    "    form = soup.find(attrs={'id': 'login_form'})\n",
    "    action_url = form.get('action')\n",
    "    inputs = form.find_all('input', attrs={'type': ['hidden', 'submit']})\n",
    "    data = {el.get('name'): el.get('value') for el in inputs}\n",
    "    cookies = res.cookies\n",
    "    return action_url, data, cookies\n",
    "\n",
    "\n",
    "def create_session():\n",
    "    login_url, login_data, login_cookies = _get_login_data()\n",
    "    login_data['email'] = os.environ['FB_EMAIL']\n",
    "    login_data['pass'] = os.environ['FB_PASSWORD']\n",
    "    s = requests.Session()\n",
    "    res = s.post(create_url(login_path), data=data, cookies=cookies, allow_redirects=False)\n",
    "    if res2.status_code != 302:\n",
    "        raise RuntimeError('Error while logging in.')\n",
    "    return s\n",
    "\n",
    "\n",
    "def download_page(s, url):\n",
    "    res = s.get(url)\n",
    "    res.raise_for_status()\n",
    "    return res.text"
   ]
  },
  {
   "cell_type": "code",
   "execution_count": null,
   "id": "ed2af3f9-fbc1-4925-a710-2fea666e9503",
   "metadata": {},
   "outputs": [],
   "source": [
    "s = create_session()\n",
    "page = download_page(s, post_url)\n",
    "s.close()"
   ]
  },
  {
   "cell_type": "code",
   "execution_count": null,
   "id": "f4065940-f9fe-47ca-a260-fb20959cd017",
   "metadata": {},
   "outputs": [],
   "source": [
    "with requests.Session() as s, open('index.html', 'w') as f:\n",
    "    res = s.get(home_url)\n",
    "    soup = BeautifulSoup(res.text)\n",
    "    form = soup.find(attrs={'id': 'login_form'})\n",
    "    login_path = form.get('action')\n",
    "    inputs = form.find_all('input', attrs={'type': ['hidden', 'submit']})\n",
    "    data = {el.get('name'): el.get('value') for el in inputs}\n",
    "    data['email'] = os.environ['FB_EMAIL']\n",
    "    data['pass'] = os.environ['FB_PASSWORD']\n",
    "    cookies = res.cookies\n",
    "    res2 = s.post(create_url(login_path), data=data, cookies=cookies, allow_redirects=False)\n",
    "    if res2.status_code != 302:\n",
    "        raise RuntimeError('Error while logging in.')\n",
    "    res3 = s.get(post_url)\n",
    "    f.write(res3.text)"
   ]
  },
  {
   "cell_type": "code",
   "execution_count": null,
   "id": "a1facf84-6b21-4ae9-9e45-8d1c7b13f014",
   "metadata": {},
   "outputs": [],
   "source": [
    "BeautifulSoup(page).find('title')"
   ]
  },
  {
   "cell_type": "code",
   "execution_count": null,
   "id": "cddfc027-0729-4699-8932-01c10d4552ff",
   "metadata": {},
   "outputs": [],
   "source": [
    "login_url, login_data = get_login_url_and_data()\n",
    "with requests.Session() as s, open('index.html', 'w') as f:\n",
    "    res = s.post(login_url, data=login_data)\n",
    "    f.write(res.text)\n",
    "    # res = s.get('https://mbasic.facebook.com/groups/vinteoklamp/permalink/1668258000349626/')"
   ]
  },
  {
   "cell_type": "code",
   "execution_count": null,
   "id": "92757526-145c-46aa-a473-5b1069d2d37d",
   "metadata": {},
   "outputs": [],
   "source": [
    "data-ad-preview=\"message\""
   ]
  }
 ],
 "metadata": {
  "kernelspec": {
   "display_name": "Python 3 (ipykernel)",
   "language": "python",
   "name": "python3"
  },
  "language_info": {
   "codemirror_mode": {
    "name": "ipython",
    "version": 3
   },
   "file_extension": ".py",
   "mimetype": "text/x-python",
   "name": "python",
   "nbconvert_exporter": "python",
   "pygments_lexer": "ipython3",
   "version": "3.11.4"
  }
 },
 "nbformat": 4,
 "nbformat_minor": 5
}
